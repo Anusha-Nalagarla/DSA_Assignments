{
 "cells": [
  {
   "cell_type": "markdown",
   "id": "77789c16",
   "metadata": {},
   "source": [
    "Question 1\n",
    "Given two strings s1 and s2, return the lowest ASCII sum of deleted characters to make two strings equal."
   ]
  },
  {
   "cell_type": "code",
   "execution_count": 1,
   "id": "ef0878aa",
   "metadata": {},
   "outputs": [
    {
     "data": {
      "text/plain": [
       "231"
      ]
     },
     "execution_count": 1,
     "metadata": {},
     "output_type": "execute_result"
    }
   ],
   "source": [
    "def Q1(s1,s2):\n",
    "        n1 = len(s1)\n",
    "        n2 = len(s2)\n",
    "        dp = [[0] * (n2 + 1) for _ in range(n1 + 1)]\n",
    "        dp[0][0] = 0\n",
    "        for i in range(n1):\n",
    "            dp[i + 1][0] = dp[i][0] + ord(s1[i])\n",
    "        for j in range(n2):\n",
    "            dp[0][j + 1] = dp[0][j] + ord(s2[j])\n",
    "        for i in range(n1):\n",
    "            for j in range(n2):\n",
    "                if s1[i] == s2[j]:\n",
    "                    dp[i + 1][j + 1] = dp[i][j]\n",
    "                else:\n",
    "                    dp[i + 1][j + 1] = min(dp[i][j + 1] + ord(s1[i]), dp[i + 1][j] + ord(s2[j]))\n",
    "        return dp[n1][n2]  \n",
    "Q1(s1 = \"sea\", s2 = \"eat\")"
   ]
  },
  {
   "cell_type": "markdown",
   "id": "15de2351",
   "metadata": {},
   "source": [
    "Question 2\n",
    "Given a string s containing only three types of characters: '(', ')' and '*', return true if s is valid."
   ]
  },
  {
   "cell_type": "code",
   "execution_count": 4,
   "id": "66a1f1d0",
   "metadata": {},
   "outputs": [
    {
     "data": {
      "text/plain": [
       "True"
      ]
     },
     "execution_count": 4,
     "metadata": {},
     "output_type": "execute_result"
    }
   ],
   "source": [
    "def Q2(s):\n",
    "    leftSymbols = []\n",
    "    for c in s:\n",
    "        if c in ['(', '*', ')']:\n",
    "            leftSymbols.append(c)\n",
    "        elif c == ')' and len(leftSymbols) != 0 and leftSymbols[-1] == '(':\n",
    "            leftSymbols.pop()\n",
    "        elif c == '}' and len(leftSymbols) != 0 and leftSymbols[-1] == '{':\n",
    "            leftSymbols.pop()\n",
    "        elif c == ']' and len(leftSymbols) != 0 and leftSymbols[-1] == '[':\n",
    "            leftSymbols.pop()\n",
    "        else:\n",
    "            return False\n",
    "    return leftSymbols == []\n",
    "Q2(\"()\")"
   ]
  },
  {
   "cell_type": "markdown",
   "id": "cf764e0d",
   "metadata": {},
   "source": [
    "Question 3\n",
    "Given two strings word1 and word2, return the minimum number of steps required to make word1 and word2 the same.\n",
    "In one step, you can delete exactly one character in either string."
   ]
  },
  {
   "cell_type": "code",
   "execution_count": 5,
   "id": "b6fc7a80",
   "metadata": {},
   "outputs": [
    {
     "data": {
      "text/plain": [
       "2"
      ]
     },
     "execution_count": 5,
     "metadata": {},
     "output_type": "execute_result"
    }
   ],
   "source": [
    "def Q3(word1,word2):\n",
    "    arr1, arr2 = list(word1), list(word2)\n",
    "    len1, len2 = len(arr1), len(arr2)\n",
    "    dp = [[0 for _ in range(len2 + 1)] for _ in range(len1 + 1)]\n",
    "    dp[0][0] = 0\n",
    "    for i in range(1, len1 + 1):\n",
    "        dp[i][0] = i\n",
    "    for i in range(1, len2 + 1):\n",
    "        dp[0][i] = i\n",
    "    for i in range(1, len1 + 1):\n",
    "        for j in range(1, len2 + 1):\n",
    "            if arr1[i - 1] == arr2[j - 1]:\n",
    "                dp[i][j] = dp[i - 1][j - 1]\n",
    "            else:\n",
    "                dp[i][j] = min(dp[i - 1][j - 1] + 2, dp[i - 1][j] + 1, dp[i][j - 1] + 1)\n",
    "    return dp[len1][len2]\n",
    "Q3(word1 = \"sea\", word2 = \"eat\")"
   ]
  },
  {
   "cell_type": "markdown",
   "id": "294072b4",
   "metadata": {},
   "source": [
    "Question 4\n",
    "You need to construct a binary tree from a string consisting of parenthesis and integers.\n",
    "The whole input represents a binary tree. It contains an integer followed by zero, one or two pairs of parenthesis. The integer represents the root's value and a pair of parenthesis contains a child binary tree with the same structure. You always start to construct the left child node of the parent first if it exists."
   ]
  },
  {
   "cell_type": "markdown",
   "id": "de374098",
   "metadata": {},
   "source": [
    "Question 5\n",
    "Given an array of characters chars, compress it using the following algorithm:\n",
    "Begin with an empty string s. For each group of consecutive repeating characters in chars:\n",
    "•\tIf the group's length is 1, append the character to s.\n",
    "•\tOtherwise, append the character followed by the group's length.\n",
    "The compressed string s should not be returned separately, but instead, be stored in the input character array chars. Note that group lengths that are 10 or longer will be split into multiple characters in chars.\n",
    "After you are done modifying the input array, return the new length of the array.\n",
    "You must write an algorithm that uses only constant extra space."
   ]
  },
  {
   "cell_type": "code",
   "execution_count": 7,
   "id": "01a02eff",
   "metadata": {},
   "outputs": [
    {
     "data": {
      "text/plain": [
       "['a', '2', 'b', '2', 'c', '3', 'c']"
      ]
     },
     "execution_count": 7,
     "metadata": {},
     "output_type": "execute_result"
    }
   ],
   "source": [
    "def Q5(chars):\n",
    "    sb = []\n",
    "    n = len(chars)\n",
    "    count = 1\n",
    "    sb.append(chars[0])\n",
    "    for i in range(1, n):\n",
    "        curr = chars[i]\n",
    "        prev = chars[i-1]\n",
    "        if prev == curr:\n",
    "            count += 1\n",
    "        if prev != curr:\n",
    "            if count > 1:\n",
    "                sb.append(str(count))\n",
    "            sb.append(curr)\n",
    "            count = 1\n",
    "    if count > 1:\n",
    "        sb.append(str(count))\n",
    "    for i in range(len(sb)):\n",
    "        chars[i] = sb[i]\n",
    "    return chars\n",
    "Q5([\"a\",\"a\",\"b\",\"b\",\"c\",\"c\",\"c\"])"
   ]
  },
  {
   "cell_type": "markdown",
   "id": "6990821a",
   "metadata": {},
   "source": [
    "Question 6\n",
    "Given two strings s and p, return an array of all the start indices of p*'s anagrams in* s. You may return the answer in any order."
   ]
  },
  {
   "cell_type": "code",
   "execution_count": 12,
   "id": "3c823ba8",
   "metadata": {},
   "outputs": [
    {
     "data": {
      "text/plain": [
       "[0, 6]"
      ]
     },
     "execution_count": 12,
     "metadata": {},
     "output_type": "execute_result"
    }
   ],
   "source": [
    "def Q6(s,p):\n",
    "    rst = []\n",
    "    if s is None or len(s) == 0 or len(s) < len(p):\n",
    "        return rst\n",
    "    map_p = [0] * 26\n",
    "    for i in range(len(p)):\n",
    "        map_p[ord(p[i]) - ord('a')] += 1\n",
    "    for i in range(len(s) - len(p) + 1):\n",
    "        map_s = [0] * 26\n",
    "        for j in range(len(p)):\n",
    "            map_s[ord(s[i+j]) - ord('a')] += 1\n",
    "        if isMatch(map_p, map_s):\n",
    "            rst.append(i)\n",
    "    return rst\n",
    "    \n",
    "def isMatch(arr1, arr2):\n",
    "    for i in range(len(arr1)):\n",
    "        if arr1[i] != arr2[i]:\n",
    "            return False\n",
    "    return True\n",
    "Q6(\"cbaebabacd\",\"abc\")"
   ]
  },
  {
   "cell_type": "markdown",
   "id": "aae93c65",
   "metadata": {},
   "source": [
    "Question 7\n",
    "Given an encoded string, return its decoded string.\n",
    "The encoding rule is: k[encoded_string], where the encoded_string inside the square brackets is being repeated exactly k times. Note that k is guaranteed to be a positive integer.\n",
    "You may assume that the input string is always valid; there are no extra white spaces, square brackets are well-formed, etc. Furthermore, you may assume that the original data does not contain any digits and that digits are only for those repeat numbers, k. For example, there will not be input like 3a or 2[4].\n",
    "The test cases are generated so that the length of the output will never exceed 105."
   ]
  },
  {
   "cell_type": "code",
   "execution_count": 16,
   "id": "b6e7f2af",
   "metadata": {},
   "outputs": [
    {
     "data": {
      "text/plain": [
       "'aaabcbc'"
      ]
     },
     "execution_count": 16,
     "metadata": {},
     "output_type": "execute_result"
    }
   ],
   "source": [
    "def Q7(str1):\n",
    "    integerstack = []\n",
    "    stringstack = []\n",
    "    temp = \"\"\n",
    "    result = \"\"\n",
    "    i = 0\n",
    "    while i < len(str1):\n",
    "        count = 0\n",
    "        if (str1[i] >= '0' and str1[i] <='9'):\n",
    "            while (str1[i] >= '0' and str1[i] <= '9'):\n",
    "                count = count * 10 + ord(str1[i]) - ord('0')\n",
    "                i += 1\n",
    "            i -= 1\n",
    "            integerstack.append(count)\n",
    "        elif (str1[i] == ']'):\n",
    "            temp = \"\"\n",
    "            count = 0\n",
    "            if (len(integerstack) != 0):\n",
    "                count = integerstack[-1]\n",
    "                integerstack.pop()\n",
    "            while (len(stringstack) != 0 and stringstack[-1] !='[' ):\n",
    "                temp = stringstack[-1] + temp\n",
    "                stringstack.pop()\n",
    "            if (len(stringstack) != 0 and stringstack[-1] == '['):\n",
    "                stringstack.pop()\n",
    "            for j in range(count):\n",
    "                result = result + temp\n",
    "            for j in range(len(result)):\n",
    "                stringstack.append(result[j])\n",
    "            result = \"\"\n",
    "        elif (str1[i] == '['):\n",
    "            if (str1[i-1] >= '0' and str1[i-1] <= '9'):\n",
    "                stringstack.append(str1[i]) \n",
    "            else:\n",
    "                stringstack.append(str1[i])\n",
    "                integerstack.append(1)\n",
    "        else:\n",
    "            stringstack.append(str1[i])        \n",
    "        i += 1\n",
    "    while len(stringstack) != 0:\n",
    "        result = stringstack[-1] + result\n",
    "        stringstack.pop()\n",
    " \n",
    "    return result\n",
    "    \n",
    "Q7(\"3[a]2[bc]\")"
   ]
  },
  {
   "cell_type": "markdown",
   "id": "e3533e9c",
   "metadata": {},
   "source": [
    "Question 8\n",
    "Given two strings s and goal, return true if you can swap two letters in s so the result is equal to goal*, otherwise, return* false*.*\n",
    "Swapping letters is defined as taking two indices i and j (0-indexed) such that i != j and swapping the characters at s[i] and s[j].\n",
    "•\tFor example, swapping at indices 0 and 2 in \"abcd\" results in \"cbad\"."
   ]
  },
  {
   "cell_type": "code",
   "execution_count": 18,
   "id": "5e64a36b",
   "metadata": {},
   "outputs": [
    {
     "data": {
      "text/plain": [
       "False"
      ]
     },
     "execution_count": 18,
     "metadata": {},
     "output_type": "execute_result"
    }
   ],
   "source": [
    "def Q8(s,goal):\n",
    "    n=len(s)\n",
    "    flag = False\n",
    "    for i in range(n):\n",
    "        for j in range(n):\n",
    "            a_list = list(s)\n",
    "            b_list = list(goal)\n",
    "            a_list[i], b_list[j] = b_list[j], a_list[i]\n",
    "            if \"\".join(a_list) == \"\".join(b_list):\n",
    "                flag = True\n",
    "                break\n",
    "            a_list[i], b_list[j] = b_list[j], a_list[i]\n",
    "        if flag:\n",
    "            break\n",
    "    return flag    \n",
    "Q8(s = \"ab\", goal = \"ba\")"
   ]
  },
  {
   "cell_type": "code",
   "execution_count": null,
   "id": "ae38a3e8",
   "metadata": {},
   "outputs": [],
   "source": []
  }
 ],
 "metadata": {
  "kernelspec": {
   "display_name": "Python 3 (ipykernel)",
   "language": "python",
   "name": "python3"
  },
  "language_info": {
   "codemirror_mode": {
    "name": "ipython",
    "version": 3
   },
   "file_extension": ".py",
   "mimetype": "text/x-python",
   "name": "python",
   "nbconvert_exporter": "python",
   "pygments_lexer": "ipython3",
   "version": "3.9.12"
  }
 },
 "nbformat": 4,
 "nbformat_minor": 5
}

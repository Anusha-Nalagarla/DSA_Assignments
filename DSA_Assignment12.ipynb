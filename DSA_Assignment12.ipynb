{
 "cells": [
  {
   "cell_type": "markdown",
   "id": "c5627580",
   "metadata": {},
   "source": [
    "Question 1\n",
    "Given a singly linked list, delete middle of the linked list. For example, if given linked list is 1->2->3->4->5 then linked list should be modified to 1->2->4->5.If there are even nodes, then there would be two middle nodes, we need to delete the second middle element. For example, if given linked list is 1->2->3->4->5->6 then it should be modified to 1->2->3->5->6.If the input linked list is NULL or has 1 node, then it should return NULL"
   ]
  },
  {
   "cell_type": "code",
   "execution_count": 2,
   "id": "2bfb7e7c",
   "metadata": {},
   "outputs": [
    {
     "name": "stdout",
     "output_type": "stream",
     "text": [
      "1->2->3->4->5->NULL\n",
      "1->2->4->5->NULL\n"
     ]
    }
   ],
   "source": [
    "class Node:    \n",
    "    def __init__(self):        \n",
    "        self.data = 0\n",
    "        self.next = None\n",
    "def countOfNodes(head):\n",
    "    count = 0    \n",
    "    while (head != None):\n",
    "        head = head.next\n",
    "        count += 1   \n",
    "    return count\n",
    "def deleteMid(head):\n",
    "    if (head == None):\n",
    "        return None\n",
    "    if (head.next == None):\n",
    "        del head\n",
    "        return None\n",
    "    copyHead = head\n",
    "    count = countOfNodes(head)\n",
    "    mid = count // 2\n",
    "    while (mid > 1):\n",
    "        mid -= 1\n",
    "        head = head.next\n",
    "    head.next = head.next.next\n",
    "    return copyHead\n",
    "def printList(ptr):\n",
    "    while (ptr != None):\n",
    "        print(ptr.data, end = '->')\n",
    "        ptr = ptr.next   \n",
    "    print('NULL')\n",
    "def newNode(data):\n",
    "    temp = Node()\n",
    "    temp.data = data\n",
    "    temp.next = None\n",
    "    return temp\n",
    "if __name__=='__main__':\n",
    "    head = newNode(1)\n",
    "    head.next = newNode(2)\n",
    "    head.next.next = newNode(3)\n",
    "    head.next.next.next = newNode(4)\n",
    "    head.next.next.next.next = newNode(5)\n",
    "    head = deleteMid(head)\n",
    "    printList(head)"
   ]
  },
  {
   "cell_type": "markdown",
   "id": "bb568244",
   "metadata": {},
   "source": [
    "Given a linked list of N nodes. The task is to check if the linked list has a loop. Linked list can contain self loop."
   ]
  },
  {
   "cell_type": "code",
   "execution_count": 14,
   "id": "b8bec24f",
   "metadata": {},
   "outputs": [
    {
     "name": "stdout",
     "output_type": "stream",
     "text": [
      "True\n"
     ]
    }
   ],
   "source": [
    "class ListNode:\n",
    "    def __init__(self, val):\n",
    "        self.val = val\n",
    "        self.next = None\n",
    "\n",
    "\n",
    "def detectLoop(head):\n",
    "    # Using set for hashtable.\n",
    "    hashtable = set()\n",
    "    ptr = head\n",
    "    while ptr != None:\n",
    "        # Check if node address already present.\n",
    "        if ptr in hashtable:\n",
    "            return True\n",
    "        # Add the current node address to hashtable.\n",
    "        hashtable.add(ptr)\n",
    "        ptr = ptr.next\n",
    "    return False\n",
    "\n",
    "\n",
    "if __name__ == \"__main__\":\n",
    "    head = ListNode(1)\n",
    "    head.next = l1 = ListNode(2)\n",
    "    l1.next = l2 = ListNode(3)\n",
    "    l2.next = l3 = ListNode(4)\n",
    "    l3.next = l2\n",
    "    # 2->8->3->5->10--\n",
    "    #   \t^    \t|\n",
    "    #   \t|    \t|\n",
    "    #   \t---------\n",
    "    print(detectLoop(head))"
   ]
  },
  {
   "cell_type": "markdown",
   "id": "f32eb8be",
   "metadata": {},
   "source": [
    "Question 3\n",
    "Given a linked list consisting of L nodes and given a number N. The task is to find the Nth node from the end of the linked list."
   ]
  },
  {
   "cell_type": "code",
   "execution_count": 7,
   "id": "9bd1c788",
   "metadata": {},
   "outputs": [
    {
     "name": "stdout",
     "output_type": "stream",
     "text": [
      "2\n"
     ]
    }
   ],
   "source": [
    "class Node:\n",
    "    def __init__(self, new_data):\n",
    "        self.data = new_data\n",
    "        self.next = None\n",
    "class LinkedList:\n",
    "    def __init__(self):\n",
    "        self.head = None\n",
    "    def push(self, new_data):\n",
    "        new_node = Node(new_data)\n",
    "        new_node.next = self.head\n",
    "        self.head = new_node\n",
    "    def printNthFromLast(self, n):\n",
    "        temp = self.head \n",
    "        length = 0\n",
    "        while temp is not None:\n",
    "            temp = temp.next\n",
    "            length += 1\n",
    "        if n > length:              \n",
    "            return\n",
    "        temp = self.head\n",
    "        for i in range(0, length - n):\n",
    "            temp = temp.next\n",
    "        print(temp.data)\n",
    "if __name__ == \"__main__\":\n",
    "    llist = LinkedList()\n",
    "    llist.push(1)\n",
    "    llist.push(2)\n",
    "    llist.push(3)\n",
    "    llist.push(4)\n",
    "    llist.push(5)\n",
    "    llist.push(6)\n",
    "    llist.push(7)\n",
    "    llist.push(8)\n",
    "    llist.push(9)\n",
    "    llist.printNthFromLast(2)"
   ]
  },
  {
   "cell_type": "markdown",
   "id": "294ef19f",
   "metadata": {},
   "source": [
    "Question 4\n",
    "Given a singly linked list of characters, write a function that returns true if the given list is a palindrome, else false."
   ]
  },
  {
   "cell_type": "code",
   "execution_count": 13,
   "id": "1202bef4",
   "metadata": {},
   "outputs": [
    {
     "name": "stdout",
     "output_type": "stream",
     "text": [
      "False\n"
     ]
    }
   ],
   "source": [
    "class Node:\n",
    "    def __init__(self, data):\n",
    "        self.data = data\n",
    "        self.ptr = None\n",
    " \n",
    "def ispalindrome(head):\n",
    "    slow = head\n",
    "    stack = []\n",
    "    ispalin = True\n",
    "    while slow != None:\n",
    "        stack.append(slow.data)\n",
    "        slow = slow.ptr\n",
    "    while head != None:\n",
    "        i = stack.pop()\n",
    "        if head.data == i:\n",
    "            ispalin = True\n",
    "        else:\n",
    "            ispalin = False\n",
    "            break\n",
    "        head = head.ptr \n",
    "    return ispalin\n",
    "\n",
    "one = Node(\"C\")\n",
    "two = Node(\"O\")\n",
    "three = Node(\"D\")\n",
    "four = Node(\"E\")\n",
    "one.ptr = two\n",
    "two.ptr = three\n",
    "three.ptr = four\n",
    "four.ptr = None\n",
    "result = ispalindrome(one)\n",
    "print(result)"
   ]
  },
  {
   "cell_type": "code",
   "execution_count": null,
   "id": "28e7b202",
   "metadata": {},
   "outputs": [],
   "source": []
  }
 ],
 "metadata": {
  "kernelspec": {
   "display_name": "Python 3 (ipykernel)",
   "language": "python",
   "name": "python3"
  },
  "language_info": {
   "codemirror_mode": {
    "name": "ipython",
    "version": 3
   },
   "file_extension": ".py",
   "mimetype": "text/x-python",
   "name": "python",
   "nbconvert_exporter": "python",
   "pygments_lexer": "ipython3",
   "version": "3.9.12"
  }
 },
 "nbformat": 4,
 "nbformat_minor": 5
}

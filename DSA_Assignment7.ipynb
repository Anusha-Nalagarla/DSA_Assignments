{
 "cells": [
  {
   "cell_type": "markdown",
   "id": "53211b9f",
   "metadata": {},
   "source": [
    "Question 1\n",
    "Given two strings s and t, determine if they are isomorphic.\n",
    "Two strings s and t are isomorphic if the characters in s can be replaced to get t.\n",
    "All occurrences of a character must be replaced with another character while preserving the order of characters. No two characters may map to the same character, but a character may map to itself."
   ]
  },
  {
   "cell_type": "code",
   "execution_count": 2,
   "id": "ed1ff727",
   "metadata": {},
   "outputs": [
    {
     "data": {
      "text/plain": [
       "True"
      ]
     },
     "execution_count": 2,
     "metadata": {},
     "output_type": "execute_result"
    }
   ],
   "source": [
    "def Q1(s,t):\n",
    "    if len(s) != len(t):\n",
    "        return False\n",
    "    else:\n",
    "        map1, map2 = {}, {}\n",
    "        for i in range(len(s)):\n",
    "            ch1, ch2 = s[i], t[i]\n",
    "            if ch1 not in map1:\n",
    "                map1[ch1] = ch2\n",
    "            if ch2 not in map2:\n",
    "                map2[ch2] = ch1\n",
    "            if map1[ch1] != ch2 or map2[ch2] != ch1:\n",
    "                return False\n",
    "    return True\n",
    "Q1(\"egg\",\"add\")"
   ]
  },
  {
   "cell_type": "markdown",
   "id": "b4c60c33",
   "metadata": {},
   "source": [
    "Question 2\n",
    "Given a string num which represents an integer, return true if num is a strobogrammatic number.\n",
    "A strobogrammatic number is a number that looks the same when rotated 180 degrees (looked at upside down)."
   ]
  },
  {
   "cell_type": "code",
   "execution_count": 6,
   "id": "ee026923",
   "metadata": {},
   "outputs": [
    {
     "name": "stdout",
     "output_type": "stream",
     "text": [
      "1 0\n"
     ]
    },
    {
     "data": {
      "text/plain": [
       "True"
      ]
     },
     "execution_count": 6,
     "metadata": {},
     "output_type": "execute_result"
    }
   ],
   "source": [
    "def Q2(num):\n",
    "    maps = {(\"6\", \"9\"),(\"9\", \"6\")}\n",
    "    i,j = 0, len(num) - 1\n",
    "    while i <= j:\n",
    "        if (num[i], num[j]) not in maps:\n",
    "            return False\n",
    "        i += 1\n",
    "        j -= 1\n",
    "        #print(i,j)\n",
    "    return True\n",
    "Q2(\"69\")"
   ]
  },
  {
   "cell_type": "markdown",
   "id": "a258a1b7",
   "metadata": {},
   "source": [
    "Question 3\n",
    "Given two non-negative integers, num1 and num2 represented as string, return the sum of num1 and num2 as a string.\n",
    "You must solve the problem without using any built-in library for handling large integers (such as BigInteger). You must also not convert the inputs to integers directly."
   ]
  },
  {
   "cell_type": "code",
   "execution_count": 16,
   "id": "7e2043b3",
   "metadata": {},
   "outputs": [
    {
     "data": {
      "text/plain": [
       "'134'"
      ]
     },
     "execution_count": 16,
     "metadata": {},
     "output_type": "execute_result"
    }
   ],
   "source": [
    "def Q3(num1,num2):\n",
    "    a = []\n",
    "    b = 0\n",
    "    i = len(num1) - 1\n",
    "    j = len(num2) - 1\n",
    "    while i >= 0 or j >= 0 or b:\n",
    "      if i >= 0:\n",
    "        b += int(num1[i])\n",
    "      if j >= 0:\n",
    "        b += int(num2[j])\n",
    "      a.append(str(b % 10))\n",
    "      b //= 10\n",
    "      i -= 1\n",
    "      j -= 1\n",
    "\n",
    "    return ''.join(a[::-1])\n",
    "Q3(\"11\",\"123\")"
   ]
  },
  {
   "cell_type": "markdown",
   "id": "2cb16ffe",
   "metadata": {},
   "source": [
    "Question 4\n",
    "Given a string s, reverse the order of characters in each word within a sentence while still preserving whitespace and initial word order."
   ]
  },
  {
   "cell_type": "code",
   "execution_count": 37,
   "id": "018cc52d",
   "metadata": {},
   "outputs": [
    {
     "name": "stdout",
     "output_type": "stream",
     "text": [
      "s'teL ekat edoCteeL tsetnoc "
     ]
    }
   ],
   "source": [
    "def Q4(s):\n",
    "    word = \"\"\n",
    "    iss = s.split()\n",
    "    for i in iss:\n",
    "        word = i[::-1]\n",
    "        print(word, end=\" \")\n",
    "Q4(\"Let's take LeetCode contest\")"
   ]
  },
  {
   "cell_type": "markdown",
   "id": "1d7483cf",
   "metadata": {},
   "source": [
    "Question 5\n",
    "Given a string s and an integer k, reverse the first k characters for every 2k characters counting from the start of the string.\n",
    "If there are fewer than k characters left, reverse all of them. If there are less than 2k but greater than or equal to k characters, then reverse the first k characters and leave the other as original."
   ]
  },
  {
   "cell_type": "code",
   "execution_count": 79,
   "id": "9eb64c66",
   "metadata": {},
   "outputs": [
    {
     "data": {
      "text/plain": [
       "'bacdfeg'"
      ]
     },
     "execution_count": 79,
     "metadata": {},
     "output_type": "execute_result"
    }
   ],
   "source": [
    "def Q5(s,k):\n",
    "    sLen = len(s)\n",
    "    b = \"\"\n",
    "    l = 0\n",
    "    rev = False\n",
    "    for i in range(sLen):\n",
    "        if i % k == 0:\n",
    "            sub = s[l:i]\n",
    "            if rev:\n",
    "                sub = sub[::-1]\n",
    "            b += sub\n",
    "            l = i\n",
    "            rev = not rev\n",
    "    sub = s[l:sLen]\n",
    "    if rev:\n",
    "        sub = sub[::-1]\n",
    "    b += sub\n",
    "    return b\n",
    "\n",
    "Q5(\"abcdefg\",2)"
   ]
  },
  {
   "cell_type": "markdown",
   "id": "c555a162",
   "metadata": {},
   "source": [
    "💡 Question 6\n",
    "Given two strings s and goal, return true if and only if s can become goal after some number of shifts on s.\n",
    "A shift on s consists of moving the leftmost character of s to the rightmost position.\n",
    "•\tFor example, if s = \"abcde\", then it will be \"bcdea\" after one shift."
   ]
  },
  {
   "cell_type": "markdown",
   "id": "17aff222",
   "metadata": {},
   "source": [
    "Question 7\n",
    "Given two strings s and t, return true if they are equal when both are typed into empty text editors. '#' means a backspace character.\n",
    "Note that after backspacing an empty text, the text will continue empty."
   ]
  },
  {
   "cell_type": "code",
   "execution_count": null,
   "id": "fd48bdad",
   "metadata": {},
   "outputs": [],
   "source": [
    "def Q7(s = \"ab#c\", t = \"ad#c\"):\n",
    "    if(Q7(s) == Q7(t)):print(\"True\")\n",
    "    else:print(\"False\")\n",
    "    n = len(s)\n",
    "    idx = 0\n",
    "    for i in range(0, n):\n",
    "        if(s[i] != '#'):\n",
    "            s = s[:idx] + s[i] + s[idx+1:]\n",
    "            idx += 1\n",
    "        elif(s[i] == '#' and idx >= 0):\n",
    "            idx -= 1\n",
    "        if(idx < 0):\n",
    "            idx = 0\n",
    "    ans = \"\"\n",
    "    for i in range(0, idx):\n",
    "        ans += s[i]\n",
    "    return ans\n",
    "    \n",
    " \n",
    "Q7(s = \"ab#c\", t = \"ad#c\")\n"
   ]
  },
  {
   "cell_type": "markdown",
   "id": "330e5336",
   "metadata": {},
   "source": [
    "Question 8\n",
    "You are given an array coordinates, coordinates[i] = [x, y], where [x, y] represents the coordinate of a point. Check if these points make a straight line in the XY plane."
   ]
  },
  {
   "cell_type": "code",
   "execution_count": 1,
   "id": "ebd703bb",
   "metadata": {},
   "outputs": [
    {
     "data": {
      "text/plain": [
       "True"
      ]
     },
     "execution_count": 1,
     "metadata": {},
     "output_type": "execute_result"
    }
   ],
   "source": [
    "def Q8(arr, n):\n",
    "    x0 = arr[0][0]\n",
    "    y0 = arr[0][1]\n",
    "    x1 = arr[1][0]\n",
    "    y1 = arr[1][1]\n",
    "    dx = x1 - x0\n",
    "    dy = y1 - y0\n",
    "    for i in range(n):\n",
    "        x = arr[i][0]\n",
    "        y = arr[i][1]\n",
    "        if (dx * (y - y1) != dy * (x - x1)):\n",
    "            return False\n",
    "    return True\n",
    "Q8([[1,2],[2,3],[3,4],[4,5],[5,6],[6,7]],6)"
   ]
  },
  {
   "cell_type": "code",
   "execution_count": null,
   "id": "016e7c4e",
   "metadata": {},
   "outputs": [],
   "source": []
  }
 ],
 "metadata": {
  "kernelspec": {
   "display_name": "Python 3 (ipykernel)",
   "language": "python",
   "name": "python3"
  },
  "language_info": {
   "codemirror_mode": {
    "name": "ipython",
    "version": 3
   },
   "file_extension": ".py",
   "mimetype": "text/x-python",
   "name": "python",
   "nbconvert_exporter": "python",
   "pygments_lexer": "ipython3",
   "version": "3.9.12"
  }
 },
 "nbformat": 4,
 "nbformat_minor": 5
}

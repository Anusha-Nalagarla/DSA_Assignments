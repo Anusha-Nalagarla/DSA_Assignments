{
 "cells": [
  {
   "cell_type": "markdown",
   "id": "23cde302",
   "metadata": {},
   "source": [
    "Question 1\n",
    "Given a non-negative integer x, return the square root of x rounded down to the nearest integer. The returned integer should be non-negative as well.\n",
    "You must not use any built-in exponent function or operator."
   ]
  },
  {
   "cell_type": "code",
   "execution_count": 1,
   "id": "7a794642",
   "metadata": {},
   "outputs": [
    {
     "data": {
      "text/plain": [
       "2"
      ]
     },
     "execution_count": 1,
     "metadata": {},
     "output_type": "execute_result"
    }
   ],
   "source": [
    "def Q1(x):\n",
    "    if (x == 0 or x == 1):\n",
    "        return x\n",
    "    i = 1\n",
    "    result = 1\n",
    "    while (result <= x): \n",
    "        i += 1\n",
    "        result = i * i \n",
    "    return i - 1\n",
    "Q1(4)    "
   ]
  },
  {
   "cell_type": "markdown",
   "id": "b6dea7d1",
   "metadata": {},
   "source": [
    "Question 2\n",
    "A peak element is an element that is strictly greater than its neighbors.\n",
    "Given a 0-indexed integer array nums, find a peak element, and return its index. If the array contains multiple peaks, return the index to any of the peaks.\n",
    "You may imagine that nums[-1] = nums[n] = -∞. In other words, an element is always considered to be strictly greater than a neighbor that is outside the array.\n",
    "You must write an algorithm that runs in O(log n) time"
   ]
  },
  {
   "cell_type": "code",
   "execution_count": 2,
   "id": "80df1a7e",
   "metadata": {},
   "outputs": [
    {
     "data": {
      "text/plain": [
       "2"
      ]
     },
     "execution_count": 2,
     "metadata": {},
     "output_type": "execute_result"
    }
   ],
   "source": [
    "def Q2(nums):\n",
    "    low = 0\n",
    "    high = len(nums)-1\n",
    "    while(low < high):\n",
    "        mid = (low+high)//2  \n",
    "        if nums[mid] > nums[mid+1]:\n",
    "            high = mid    \n",
    "        else:\n",
    "            low = mid+1      \n",
    "    return low\n",
    "Q2([1,2,3,1])"
   ]
  },
  {
   "cell_type": "markdown",
   "id": "5fedb444",
   "metadata": {},
   "source": [
    "Given an array nums containing n distinct numbers in the range [0, n], return the only number in the range that is missing from the array."
   ]
  },
  {
   "cell_type": "code",
   "execution_count": 4,
   "id": "5db16c70",
   "metadata": {},
   "outputs": [
    {
     "data": {
      "text/plain": [
       "2"
      ]
     },
     "execution_count": 4,
     "metadata": {},
     "output_type": "execute_result"
    }
   ],
   "source": [
    "def Q3(arr):\n",
    "    n = len(arr)\n",
    "    temp = [0] * n  # Creating temp array of size n with initial values as 0.\n",
    "    repeatingNumber = -1\n",
    "    missingNumber = -1\n",
    " \n",
    "    for i in range(n):\n",
    "        temp[arr[i] - 1] += 1\n",
    "        if temp[arr[i] - 1] > 1:\n",
    "            repeatingNumber = arr[i]\n",
    "    for i in range(n):\n",
    "        if temp[i] == 0:\n",
    "            missingNumber = i + 1\n",
    "            break\n",
    "    return missingNumber\n",
    " \n",
    "Q3([3,0,1])"
   ]
  },
  {
   "cell_type": "markdown",
   "id": "8020666d",
   "metadata": {},
   "source": [
    "Question 4\n",
    "Given an array of integers nums containing n + 1 integers where each integer is in the range [1, n] inclusive.\n",
    "There is only one repeated number in nums, return this repeated number.\n",
    "You must solve the problem without modifying the array nums and uses only constant extra space."
   ]
  },
  {
   "cell_type": "code",
   "execution_count": 5,
   "id": "8b65c1d9",
   "metadata": {},
   "outputs": [
    {
     "data": {
      "text/plain": [
       "2"
      ]
     },
     "execution_count": 5,
     "metadata": {},
     "output_type": "execute_result"
    }
   ],
   "source": [
    "def Q4(nums):\n",
    "    n = len(nums)\n",
    "    nums.sort()\n",
    "    for i in range(n - 1):\n",
    "        if nums[i] == nums[i + 1]:\n",
    "            return nums[i]\n",
    "Q4([1,3,4,2,2]) "
   ]
  },
  {
   "cell_type": "markdown",
   "id": "95b88541",
   "metadata": {},
   "source": [
    "Question 5\n",
    "Given two integer arrays nums1 and nums2, return an array of their intersection. Each element in the result must be unique and you may return the result in any order."
   ]
  },
  {
   "cell_type": "code",
   "execution_count": 15,
   "id": "66e04188",
   "metadata": {},
   "outputs": [
    {
     "data": {
      "text/plain": [
       "[9, 4]"
      ]
     },
     "execution_count": 15,
     "metadata": {},
     "output_type": "execute_result"
    }
   ],
   "source": [
    "def Q5(nums1,nums2):\n",
    "    nums1,nums2=set(nums1),set(nums2)\n",
    "    return list(nums1&nums2)\n",
    "Q5(nums1 = [4,9,5], nums2 = [9,4,9,8,4])  \n",
    "#Q5(nums1 = [1,2,2,1], nums2 = [2,2])"
   ]
  },
  {
   "cell_type": "markdown",
   "id": "155a5e6e",
   "metadata": {},
   "source": [
    "Question 6\n",
    "Suppose an array of length n sorted in ascending order is rotated between 1 and n times. For example, the array nums = [0,1,2,4,5,6,7] might become:\n",
    "•\t[4,5,6,7,0,1,2] if it was rotated 4 times.\n",
    "•\t[0,1,2,4,5,6,7] if it was rotated 7 times."
   ]
  },
  {
   "cell_type": "code",
   "execution_count": 16,
   "id": "3bffc9f1",
   "metadata": {},
   "outputs": [
    {
     "data": {
      "text/plain": [
       "1"
      ]
     },
     "execution_count": 16,
     "metadata": {},
     "output_type": "execute_result"
    }
   ],
   "source": [
    "def Q6(nums):\n",
    "    n=len(nums)\n",
    "    min1 = nums[0];\n",
    "    for i in range(n) :\n",
    "        if nums[i] < min1 :\n",
    "            min1 = nums[i]\n",
    " \n",
    "    return min1;\n",
    "Q6(nums = [3,4,5,1,2])  "
   ]
  },
  {
   "cell_type": "markdown",
   "id": "bbd223e2",
   "metadata": {},
   "source": [
    "Question 7\n",
    "Given an array of integers nums sorted in non-decreasing order, find the starting and ending position of a given target value.\n",
    "If target is not found in the array, return [-1, -1].\n",
    "You must write an algorithm with O(log n) runtime complexity."
   ]
  },
  {
   "cell_type": "code",
   "execution_count": 20,
   "id": "980b353e",
   "metadata": {},
   "outputs": [
    {
     "data": {
      "text/plain": [
       "[3, -1]"
      ]
     },
     "execution_count": 20,
     "metadata": {},
     "output_type": "execute_result"
    }
   ],
   "source": [
    "def Q7(nums,target):\n",
    "        left = right = -1\n",
    "        start = 0\n",
    "        end = len(nums)-1\n",
    "        while start <= end:\n",
    "            mid = (start + end) // 2\n",
    "            if (nums[mid] == target) and ((mid > 0 and nums[mid-1] != target) or (mid == 0)):\n",
    "                left = mid\n",
    "                break\n",
    "            elif nums[mid] >= target:\n",
    "                end = mid - 1\n",
    "            else:\n",
    "                start = mid + 1\n",
    "        start = 0\n",
    "        end = len(nums)-1\n",
    "        while start <= end:\n",
    "            mid = (start + end) // 2\n",
    "            if (nums[mid] == target) and ((mid < len(nums)-1 and nums[mid+1] != target) or (mid == len(nums)-1)):\n",
    "                right = mid\n",
    "                break\n",
    "            elif nums[mid] <= target:\n",
    "                start = mid + 1\n",
    "            else:\n",
    "                end = mid - 1\n",
    "        return [left, right]\n",
    "Q7(nums = [5,7,7,8,8,10], target = 8)"
   ]
  },
  {
   "cell_type": "markdown",
   "id": "93ce4e0c",
   "metadata": {},
   "source": [
    "Given two integer arrays nums1 and nums2, return an array of their intersection. Each element in the result must appear as many times as it shows in both arrays and you may return the result in any order."
   ]
  },
  {
   "cell_type": "code",
   "execution_count": 21,
   "id": "6a372b07",
   "metadata": {},
   "outputs": [
    {
     "data": {
      "text/plain": [
       "[2]"
      ]
     },
     "execution_count": 21,
     "metadata": {},
     "output_type": "execute_result"
    }
   ],
   "source": [
    "def Q8(nums1,nums2):\n",
    "    nums1,nums2=set(nums1),set(nums2)\n",
    "    return list(nums1&nums2)\n",
    "    \n",
    "Q8(nums1 = [1,2,2,1], nums2 = [2,2])"
   ]
  },
  {
   "cell_type": "code",
   "execution_count": null,
   "id": "13c29129",
   "metadata": {},
   "outputs": [],
   "source": []
  }
 ],
 "metadata": {
  "kernelspec": {
   "display_name": "Python 3 (ipykernel)",
   "language": "python",
   "name": "python3"
  },
  "language_info": {
   "codemirror_mode": {
    "name": "ipython",
    "version": 3
   },
   "file_extension": ".py",
   "mimetype": "text/x-python",
   "name": "python",
   "nbconvert_exporter": "python",
   "pygments_lexer": "ipython3",
   "version": "3.9.12"
  }
 },
 "nbformat": 4,
 "nbformat_minor": 5
}

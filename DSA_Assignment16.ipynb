{
 "cells": [
  {
   "cell_type": "markdown",
   "id": "d748e112",
   "metadata": {},
   "source": [
    "Given an array, for each element find the value of the nearest element to the right which is having a frequency greater than that of the current element. If there does not exist an answer for a position, then make the value ‘-1’."
   ]
  },
  {
   "cell_type": "code",
   "execution_count": 3,
   "id": "c84a0672",
   "metadata": {},
   "outputs": [
    {
     "name": "stdout",
     "output_type": "stream",
     "text": [
      "2 2 2 11 11 11 11 -1 -1 -1 "
     ]
    }
   ],
   "source": [
    "def Q1(arr):\n",
    "    if not arr:\n",
    "        return\n",
    "    for i in range(len(arr)):\n",
    "        next = -1\n",
    "        for j in range(i + 1, len(arr)):\n",
    "            if arr[j] > arr[i]:\n",
    "                next = arr[j]\n",
    "                break\n",
    " \n",
    "        print(next, end=' ')\n",
    "    \n",
    "Q1([1, 1, 1, 2, 2, 2, 2, 11, 3, 3])"
   ]
  },
  {
   "cell_type": "markdown",
   "id": "77097baa",
   "metadata": {},
   "source": [
    "Given a stack of integers, sort it in ascending order using another temporary stack."
   ]
  },
  {
   "cell_type": "code",
   "execution_count": 4,
   "id": "607f063f",
   "metadata": {},
   "outputs": [
    {
     "name": "stdout",
     "output_type": "stream",
     "text": [
      "3 23 31 34 92 98 "
     ]
    }
   ],
   "source": [
    "def sortStack(input):\n",
    "    tmpStack = []\n",
    "    while (len(input) > 0):\n",
    "\n",
    "        tmp = input[-1]\n",
    "        input.pop()\n",
    " \n",
    "        while (len(tmpStack) > 0 and tmpStack[-1] < tmp):\n",
    "            input.append(tmpStack[-1])\n",
    "            tmpStack.pop()\n",
    "        tmpStack.append(tmp)     \n",
    "    return tmpStack\n",
    " \n",
    "def sortArrayUsingStacks(arr, n):\n",
    " \n",
    "    input = []\n",
    "    i = 0\n",
    "    while ( i < n ):\n",
    "        input.append(arr[i])\n",
    "        i = i + 1\n",
    "\n",
    "    tmpStack = sortStack(input)\n",
    "    i = 0\n",
    "     \n",
    "    while (i < n):\n",
    "        arr[i] = tmpStack[-1]\n",
    "        tmpStack.pop()\n",
    "        i = i + 1\n",
    "         \n",
    "    return arr\n",
    " \n",
    "arr = [34, 3, 31, 98, 92, 23]\n",
    "n = len(arr)\n",
    " \n",
    "arr = sortArrayUsingStacks(arr, n)\n",
    "i = 0\n",
    " \n",
    "while (i < n):\n",
    "    print(arr[i] ,end= \" \")\n",
    "    i = i + 1"
   ]
  },
  {
   "cell_type": "markdown",
   "id": "67c2bd34",
   "metadata": {},
   "source": [
    "Given a stack with push(), pop(), and empty() operations, The task is to delete the middle element of it without using any additional data structure."
   ]
  },
  {
   "cell_type": "code",
   "execution_count": 11,
   "id": "aef18796",
   "metadata": {},
   "outputs": [],
   "source": [
    "class delMiddle:\n",
    "    @staticmethod\n",
    "    def deleteMiddle(st, n, curr):\n",
    "        if st.empty() or curr == n:\n",
    "            return\n",
    "        x = st.pop()\n",
    "        delMiddle.deleteMiddle(st, n, curr+1)\n",
    "        if curr != n//2:\n",
    "            st.push(x)\n",
    "    \n",
    "    @staticmethod\n",
    "    def main(args):\n",
    "        st = []\n",
    "        st.append('5')\n",
    "        st.append('4')\n",
    "        st.append('3')\n",
    "        st.append('2')\n",
    "        st.append('1')\n",
    "        delMiddle.deleteMiddle(st, len(st), 0)\n",
    "        while st:\n",
    "            p = st.pop()\n",
    "            print(p, end=' ')\n"
   ]
  },
  {
   "cell_type": "markdown",
   "id": "b5bb9006",
   "metadata": {},
   "source": [
    "Given a number , write a program to reverse this number using stack."
   ]
  },
  {
   "cell_type": "code",
   "execution_count": 10,
   "id": "184b25d4",
   "metadata": {},
   "outputs": [
    {
     "name": "stdout",
     "output_type": "stream",
     "text": [
      "563\n"
     ]
    }
   ],
   "source": [
    "class ReverseDigits:\n",
    "    st = []\n",
    "    @staticmethod\n",
    "    def push_digits(number):\n",
    "        while number != 0:\n",
    "            ReverseDigits.st.append(number % 10)\n",
    "            number = number // 10\n",
    "    @staticmethod\n",
    "    def reverse_number(number):\n",
    "        ReverseDigits.push_digits(number)\n",
    "        reverse = 0\n",
    "        i = 1\n",
    "        while ReverseDigits.st:\n",
    "            reverse += ReverseDigits.st.pop() * i\n",
    "            i *= 10\n",
    "        return reverse\n",
    "print(ReverseDigits.reverse_number(365))"
   ]
  },
  {
   "cell_type": "code",
   "execution_count": null,
   "id": "d3a31e61",
   "metadata": {},
   "outputs": [],
   "source": []
  }
 ],
 "metadata": {
  "kernelspec": {
   "display_name": "Python 3 (ipykernel)",
   "language": "python",
   "name": "python3"
  },
  "language_info": {
   "codemirror_mode": {
    "name": "ipython",
    "version": 3
   },
   "file_extension": ".py",
   "mimetype": "text/x-python",
   "name": "python",
   "nbconvert_exporter": "python",
   "pygments_lexer": "ipython3",
   "version": "3.9.12"
  }
 },
 "nbformat": 4,
 "nbformat_minor": 5
}

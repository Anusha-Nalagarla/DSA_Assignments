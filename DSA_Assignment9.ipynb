{
 "cells": [
  {
   "cell_type": "markdown",
   "id": "18e964d1",
   "metadata": {},
   "source": [
    "Given an integer n, return true if it is a power of two. Otherwise, return false.\n",
    "An integer n is a power of two, if there exists an integer x such that n == 2x."
   ]
  },
  {
   "cell_type": "code",
   "execution_count": 3,
   "id": "04cb7a3f",
   "metadata": {},
   "outputs": [
    {
     "data": {
      "text/plain": [
       "True"
      ]
     },
     "execution_count": 3,
     "metadata": {},
     "output_type": "execute_result"
    }
   ],
   "source": [
    "def Q1(n):\n",
    "    if n == 1:\n",
    "        return True\n",
    "    elif n % 2 != 0 or n == 0:\n",
    "        return False\n",
    "    return Q1(n/2)\n",
    "Q1(16)"
   ]
  },
  {
   "cell_type": "markdown",
   "id": "54020e9c",
   "metadata": {},
   "source": [
    "Question 2\n",
    "Given a number n, find the sum of the first natural numbers."
   ]
  },
  {
   "cell_type": "code",
   "execution_count": 7,
   "id": "c9348c53",
   "metadata": {},
   "outputs": [
    {
     "data": {
      "text/plain": [
       "15"
      ]
     },
     "execution_count": 7,
     "metadata": {},
     "output_type": "execute_result"
    }
   ],
   "source": [
    "def Q2(n):\n",
    "    return int(n*(n+1)/2)\n",
    "Q2(5)"
   ]
  },
  {
   "cell_type": "markdown",
   "id": "7990c372",
   "metadata": {},
   "source": [
    "Question 3\n",
    "****Given a positive integer, N. Find the factorial of N."
   ]
  },
  {
   "cell_type": "code",
   "execution_count": 8,
   "id": "fd227db0",
   "metadata": {},
   "outputs": [
    {
     "data": {
      "text/plain": [
       "120"
      ]
     },
     "execution_count": 8,
     "metadata": {},
     "output_type": "execute_result"
    }
   ],
   "source": [
    "def Q3(n):\n",
    "    if n == 0:\n",
    "        return 1  \n",
    "    return n * Q3(n-1)\n",
    "Q3(5)"
   ]
  },
  {
   "cell_type": "markdown",
   "id": "39ed5d2a",
   "metadata": {},
   "source": [
    "Question 4\n",
    "Given a number N and a power P, the task is to find the exponent of this number raised to the given power, i.e. N^P."
   ]
  },
  {
   "cell_type": "code",
   "execution_count": 11,
   "id": "0533a428",
   "metadata": {},
   "outputs": [
    {
     "data": {
      "text/plain": [
       "25"
      ]
     },
     "execution_count": 11,
     "metadata": {},
     "output_type": "execute_result"
    }
   ],
   "source": [
    "def Q4(N,P):\n",
    "    return N**P\n",
    "Q4(5,2)"
   ]
  },
  {
   "cell_type": "markdown",
   "id": "97e5a2e5",
   "metadata": {},
   "source": [
    "Given an array of integers arr, the task is to find maximum element of that array using recursion."
   ]
  },
  {
   "cell_type": "code",
   "execution_count": null,
   "id": "707c197e",
   "metadata": {},
   "outputs": [],
   "source": [
    "def Q5(arr):\n",
    "    n=len(arr)\n",
    "    arr=list(arr)\n",
    "    if (n == 1):\n",
    "        return arr[0]\n",
    "    n-1\n",
    "    return max(arr[n - 1], Q5(arr))\n",
    "    \n",
    "Q5({1, 4, 3, -5, -4, 8, 6})"
   ]
  },
  {
   "cell_type": "markdown",
   "id": "67960b9d",
   "metadata": {},
   "source": [
    "Question 6\n",
    "Given first term (a), common difference (d) and a integer N of the Arithmetic Progression series, the task is to find Nth term of the series."
   ]
  },
  {
   "cell_type": "code",
   "execution_count": 5,
   "id": "8bb83834",
   "metadata": {},
   "outputs": [
    {
     "data": {
      "text/plain": [
       "23"
      ]
     },
     "execution_count": 5,
     "metadata": {},
     "output_type": "execute_result"
    }
   ],
   "source": [
    "def Q6(a,d,N):\n",
    "    b=a\n",
    "    for i in range(1,N):\n",
    "        b+=d\n",
    "    return b\n",
    "Q6(5,2,10)"
   ]
  },
  {
   "cell_type": "markdown",
   "id": "1ca7f47f",
   "metadata": {},
   "source": [
    "Question 7\n",
    "Given a string S, the task is to write a program to print all permutations of a given string."
   ]
  },
  {
   "cell_type": "code",
   "execution_count": 1,
   "id": "16ee8764",
   "metadata": {},
   "outputs": [
    {
     "name": "stdout",
     "output_type": "stream",
     "text": [
      "ABC\n",
      "ACB\n",
      "BAC\n",
      "BCA\n",
      "CBA\n",
      "CAB\n"
     ]
    }
   ],
   "source": [
    "def Q7_1(s,start,end):  \n",
    "    current = 0    \n",
    "    if(start == end-1):  \n",
    "        print(s);  \n",
    "    else:   \n",
    "        for current in range(start,end):   \n",
    "            x = list(s)\n",
    "            temp = x[start]\n",
    "            x[start] = x[current] \n",
    "            x[current] = temp\n",
    "            Q7_1(\"\".join(x),start+1,end) \n",
    "            temp = x[start]\n",
    "            x[start] = x[current]\n",
    "            x[current] = temp  \n",
    "def Q7(s):\n",
    "    start,end = 0,len(s)\n",
    "    Q7_1(s,start,end)\n",
    "Q7(\"ABC\")"
   ]
  },
  {
   "cell_type": "markdown",
   "id": "b56ecc7e",
   "metadata": {},
   "source": [
    "Question 8\n",
    "Given an array, find a product of all array elements."
   ]
  },
  {
   "cell_type": "code",
   "execution_count": 14,
   "id": "11777443",
   "metadata": {},
   "outputs": [
    {
     "data": {
      "text/plain": [
       "120"
      ]
     },
     "execution_count": 14,
     "metadata": {},
     "output_type": "execute_result"
    }
   ],
   "source": [
    "def Q8(arr):\n",
    "    res,arr=1,list(arr)\n",
    "    for i in range(len(arr)):\n",
    "        res=res*arr[i] \n",
    "    return res\n",
    "Q8({1, 2, 3, 4, 5})"
   ]
  },
  {
   "cell_type": "code",
   "execution_count": null,
   "id": "371c1fbf",
   "metadata": {},
   "outputs": [],
   "source": []
  }
 ],
 "metadata": {
  "kernelspec": {
   "display_name": "Python 3 (ipykernel)",
   "language": "python",
   "name": "python3"
  },
  "language_info": {
   "codemirror_mode": {
    "name": "ipython",
    "version": 3
   },
   "file_extension": ".py",
   "mimetype": "text/x-python",
   "name": "python",
   "nbconvert_exporter": "python",
   "pygments_lexer": "ipython3",
   "version": "3.9.12"
  }
 },
 "nbformat": 4,
 "nbformat_minor": 5
}

{
 "cells": [
  {
   "cell_type": "markdown",
   "id": "b91a6282",
   "metadata": {},
   "source": [
    "Given an array arr[ ] of size N having elements, the task is to find the next greater element for each element of the array in order of their appearance in the array.Next greater element of an element in the array is the nearest element on the right which is greater than the current element.If there does not exist next greater of current element, then next greater element for current element is -1. For example, next greater of the last element is always -1."
   ]
  },
  {
   "cell_type": "code",
   "execution_count": null,
   "id": "7f1c12f7",
   "metadata": {},
   "outputs": [],
   "source": [
    "def Q1(a, n):\n",
    "    if (n <= 0):\n",
    "        return []\n",
    "    stack = [0]*n\n",
    "    freq = {}\n",
    "    for i in a:\n",
    "        freq[a[i]] = 0\n",
    "    for i in a:\n",
    "        freq[a[i]] += 1\n",
    "    res = [0]*n\n",
    "    top = -1\n",
    "    top += 1\n",
    "    stack[top] = 0\n",
    "    for i in range(1, n):\n",
    " \n",
    "        if (freq[a[stack[top]]] > freq[a[i]]):\n",
    "            top += 1\n",
    "            stack[top] = i\n",
    "        else:\n",
    "            while (top > -1 and freq[a[stack[top]]] < freq[a[i]]):\n",
    "                res[stack[top]] = a[i]\n",
    "                top -= 1\n",
    "            top += 1\n",
    "            stack[top] = i\n",
    "    while (top > -1):\n",
    "        res[stack[top]] = -1\n",
    "        top -= 1\n",
    "    return res\n",
    "Q1([1,2,3,4],4)"
   ]
  },
  {
   "cell_type": "code",
   "execution_count": 1,
   "id": "e2c6b765",
   "metadata": {},
   "outputs": [
    {
     "name": "stdout",
     "output_type": "stream",
     "text": [
      "2 3 4 -1 "
     ]
    }
   ],
   "source": [
    "def Q1(arr):\n",
    "    if not arr:\n",
    "        return\n",
    "    for i in range(len(arr)):\n",
    "        next = -1\n",
    "        for j in range(i + 1, len(arr)):\n",
    "            if arr[j] > arr[i]:\n",
    "                next = arr[j]\n",
    "                break\n",
    " \n",
    "        print(next, end=' ')\n",
    "    \n",
    "Q1([1,2,3,4])"
   ]
  },
  {
   "cell_type": "markdown",
   "id": "a664ad35",
   "metadata": {},
   "source": [
    "Implement a Stack using two queues q1 and q2."
   ]
  },
  {
   "cell_type": "code",
   "execution_count": null,
   "id": "535956ea",
   "metadata": {},
   "outputs": [],
   "source": [
    "class Stack:\n",
    "    def __init__(self):\n",
    "        self.queue1 = Queue()\n",
    "        self.queue2 = Queue()\n",
    " \n",
    "    def is_empty(self):\n",
    "        return self.queue2.is_empty()\n",
    " \n",
    "    def push(self, data):\n",
    "        self.queue1.enqueue(data)\n",
    "        while not self.queue2.is_empty():\n",
    "            x = self.queue2.dequeue()\n",
    "            self.queue1.enqueue(x)\n",
    "        self.queue1, self.queue2 = self.queue2, self.queue1\n",
    " \n",
    "    def pop(self):\n",
    "        return self.queue2.dequeue()\n",
    " \n",
    "class Queue:\n",
    "    def __init__(self):\n",
    "        self.items = []\n",
    " \n",
    "    def is_empty(self):\n",
    "        return self.items == []\n",
    " \n",
    "    def enqueue(self, data):\n",
    "        self.items.append(data)\n",
    " \n",
    "    def dequeue(self):\n",
    "        return self.items.pop(0)\n",
    " \n",
    " \n",
    "s = Stack()\n",
    " \n",
    "print('Menu')\n",
    "print('push <value>')\n",
    "print('pop')\n",
    "print('quit')\n",
    " \n",
    "while True:\n",
    "    do = input('What would you like to do? ').split()\n",
    " \n",
    "    operation = do[0].strip().lower()\n",
    "    if operation == 'push':\n",
    "        s.push(int(do[1]))\n",
    "    elif operation == 'pop':\n",
    "        if s.is_empty():\n",
    "            print('Stack is empty.')\n",
    "        else:\n",
    "            print('Popped value: ', s.pop())\n",
    "    elif operation == 'quit':\n",
    "        break\n",
    "    "
   ]
  }
 ],
 "metadata": {
  "kernelspec": {
   "display_name": "Python 3 (ipykernel)",
   "language": "python",
   "name": "python3"
  },
  "language_info": {
   "codemirror_mode": {
    "name": "ipython",
    "version": 3
   },
   "file_extension": ".py",
   "mimetype": "text/x-python",
   "name": "python",
   "nbconvert_exporter": "python",
   "pygments_lexer": "ipython3",
   "version": "3.9.12"
  }
 },
 "nbformat": 4,
 "nbformat_minor": 5
}
